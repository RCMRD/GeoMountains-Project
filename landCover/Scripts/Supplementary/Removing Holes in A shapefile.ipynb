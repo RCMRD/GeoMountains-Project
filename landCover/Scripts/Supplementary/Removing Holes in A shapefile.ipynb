{
 "cells": [
  {
   "cell_type": "code",
   "execution_count": 1,
   "id": "5367d751-8c71-4af4-9160-6bb22ff36996",
   "metadata": {},
   "outputs": [
    {
     "name": "stdout",
     "output_type": "stream",
     "text": [
      "Defaulting to user installation because normal site-packages is not writeable\n",
      "Requirement already satisfied: geopandas in /usr/local/lib/python3.10/dist-packages (0.13.2)\n",
      "Requirement already satisfied: fiona>=1.8.19 in /usr/local/lib/python3.10/dist-packages (from geopandas) (1.9.4.post1)\n",
      "Requirement already satisfied: packaging in /usr/local/lib/python3.10/dist-packages (from geopandas) (23.1)\n",
      "Requirement already satisfied: pandas>=1.1.0 in /usr/local/lib/python3.10/dist-packages (from geopandas) (2.0.3)\n",
      "Requirement already satisfied: pyproj>=3.0.1 in /usr/local/lib/python3.10/dist-packages (from geopandas) (3.6.0)\n",
      "Requirement already satisfied: shapely>=1.7.1 in /usr/local/lib/python3.10/dist-packages (from geopandas) (2.0.1)\n",
      "Requirement already satisfied: attrs>=19.2.0 in /usr/local/lib/python3.10/dist-packages (from fiona>=1.8.19->geopandas) (21.4.0)\n",
      "Requirement already satisfied: certifi in /usr/local/lib/python3.10/dist-packages (from fiona>=1.8.19->geopandas) (2023.7.22)\n",
      "Requirement already satisfied: click~=8.0 in /usr/local/lib/python3.10/dist-packages (from fiona>=1.8.19->geopandas) (8.1.6)\n",
      "Requirement already satisfied: click-plugins>=1.0 in /usr/local/lib/python3.10/dist-packages (from fiona>=1.8.19->geopandas) (1.1.1)\n",
      "Requirement already satisfied: cligj>=0.5 in /usr/local/lib/python3.10/dist-packages (from fiona>=1.8.19->geopandas) (0.7.2)\n",
      "Requirement already satisfied: six in /usr/local/lib/python3.10/dist-packages (from fiona>=1.8.19->geopandas) (1.16.0)\n",
      "Requirement already satisfied: python-dateutil>=2.8.2 in /usr/local/lib/python3.10/dist-packages (from pandas>=1.1.0->geopandas) (2.8.2)\n",
      "Requirement already satisfied: pytz>=2020.1 in /usr/local/lib/python3.10/dist-packages (from pandas>=1.1.0->geopandas) (2023.3)\n",
      "Requirement already satisfied: tzdata>=2022.1 in /usr/local/lib/python3.10/dist-packages (from pandas>=1.1.0->geopandas) (2023.3)\n",
      "Requirement already satisfied: numpy>=1.21.0 in /usr/local/lib/python3.10/dist-packages (from pandas>=1.1.0->geopandas) (1.24.3)\n",
      "\n",
      "\u001b[1m[\u001b[0m\u001b[34;49mnotice\u001b[0m\u001b[1;39;49m]\u001b[0m\u001b[39;49m A new release of pip is available: \u001b[0m\u001b[31;49m23.2.1\u001b[0m\u001b[39;49m -> \u001b[0m\u001b[32;49m23.3.1\u001b[0m\n",
      "\u001b[1m[\u001b[0m\u001b[34;49mnotice\u001b[0m\u001b[1;39;49m]\u001b[0m\u001b[39;49m To update, run: \u001b[0m\u001b[32;49mpython -m pip install --upgrade pip\u001b[0m\n"
     ]
    }
   ],
   "source": [
    "!pip install geopandas"
   ]
  },
  {
   "cell_type": "code",
   "execution_count": 2,
   "id": "3aac3231-4380-4982-a099-d2046d8eaca1",
   "metadata": {},
   "outputs": [],
   "source": [
    "import geopandas as gpd"
   ]
  },
  {
   "cell_type": "code",
   "execution_count": 3,
   "id": "f1165c9a-6430-480b-9556-99ee7073a517",
   "metadata": {},
   "outputs": [],
   "source": [
    "input_shapefile = '/home/jovyan/Dev/deafrica-sandbox-notebooks/Use_cases/Vegetated_wetlands_mapping/Kerich/Files/Mt_Kenya.shp'\n",
    "data = gpd.read_file(input_shapefile)"
   ]
  },
  {
   "cell_type": "code",
   "execution_count": 4,
   "id": "2d1f59c9-8ac5-4c1e-97e8-0dcbc1b0c68b",
   "metadata": {},
   "outputs": [],
   "source": [
    "merged_polygon = data.unary_union"
   ]
  },
  {
   "cell_type": "code",
   "execution_count": 5,
   "id": "d28de8be-8255-4963-93f3-82f878a77856",
   "metadata": {},
   "outputs": [],
   "source": [
    "merged_gdf = gpd.GeoDataFrame(geometry=[merged_polygon])"
   ]
  },
  {
   "cell_type": "code",
   "execution_count": 6,
   "id": "91a89f26-af81-4a97-bab8-e60d068be317",
   "metadata": {},
   "outputs": [],
   "source": [
    "output_shapefile = '/home/jovyan/Dev/deafrica-sandbox-notebooks/Use_cases/Vegetated_wetlands_mapping/Kerich/Files'\n",
    "merged_gdf.to_file(output_shapefile)"
   ]
  },
  {
   "cell_type": "code",
   "execution_count": null,
   "id": "98133f7c-17e4-42b3-b549-09edf891e163",
   "metadata": {},
   "outputs": [],
   "source": []
  },
  {
   "cell_type": "code",
   "execution_count": 7,
   "id": "9167920f-cf6d-4bf1-b92a-70f77a5d2879",
   "metadata": {},
   "outputs": [
    {
     "name": "stdout",
     "output_type": "stream",
     "text": [
      "Defaulting to user installation because normal site-packages is not writeable\n",
      "Requirement already satisfied: geopandas in /usr/local/lib/python3.10/dist-packages (0.13.2)\n",
      "Requirement already satisfied: shapely in /usr/local/lib/python3.10/dist-packages (2.0.1)\n",
      "Requirement already satisfied: fiona in /usr/local/lib/python3.10/dist-packages (1.9.4.post1)\n",
      "Requirement already satisfied: packaging in /usr/local/lib/python3.10/dist-packages (from geopandas) (23.1)\n",
      "Requirement already satisfied: pandas>=1.1.0 in /usr/local/lib/python3.10/dist-packages (from geopandas) (2.0.3)\n",
      "Requirement already satisfied: pyproj>=3.0.1 in /usr/local/lib/python3.10/dist-packages (from geopandas) (3.6.0)\n",
      "Requirement already satisfied: numpy>=1.14 in /usr/local/lib/python3.10/dist-packages (from shapely) (1.24.3)\n",
      "Requirement already satisfied: attrs>=19.2.0 in /usr/local/lib/python3.10/dist-packages (from fiona) (21.4.0)\n",
      "Requirement already satisfied: certifi in /usr/local/lib/python3.10/dist-packages (from fiona) (2023.7.22)\n",
      "Requirement already satisfied: click~=8.0 in /usr/local/lib/python3.10/dist-packages (from fiona) (8.1.6)\n",
      "Requirement already satisfied: click-plugins>=1.0 in /usr/local/lib/python3.10/dist-packages (from fiona) (1.1.1)\n",
      "Requirement already satisfied: cligj>=0.5 in /usr/local/lib/python3.10/dist-packages (from fiona) (0.7.2)\n",
      "Requirement already satisfied: six in /usr/local/lib/python3.10/dist-packages (from fiona) (1.16.0)\n",
      "Requirement already satisfied: python-dateutil>=2.8.2 in /usr/local/lib/python3.10/dist-packages (from pandas>=1.1.0->geopandas) (2.8.2)\n",
      "Requirement already satisfied: pytz>=2020.1 in /usr/local/lib/python3.10/dist-packages (from pandas>=1.1.0->geopandas) (2023.3)\n",
      "Requirement already satisfied: tzdata>=2022.1 in /usr/local/lib/python3.10/dist-packages (from pandas>=1.1.0->geopandas) (2023.3)\n",
      "\n",
      "\u001b[1m[\u001b[0m\u001b[34;49mnotice\u001b[0m\u001b[1;39;49m]\u001b[0m\u001b[39;49m A new release of pip is available: \u001b[0m\u001b[31;49m23.2.1\u001b[0m\u001b[39;49m -> \u001b[0m\u001b[32;49m23.3.1\u001b[0m\n",
      "\u001b[1m[\u001b[0m\u001b[34;49mnotice\u001b[0m\u001b[1;39;49m]\u001b[0m\u001b[39;49m To update, run: \u001b[0m\u001b[32;49mpython -m pip install --upgrade pip\u001b[0m\n"
     ]
    }
   ],
   "source": [
    "!pip install geopandas shapely fiona"
   ]
  },
  {
   "cell_type": "code",
   "execution_count": 8,
   "id": "831cbeec-6c02-4edd-b84c-a24ffa9458bf",
   "metadata": {},
   "outputs": [],
   "source": [
    "import geopandas as gpd\n",
    "from shapely.geometry import Polygon"
   ]
  },
  {
   "cell_type": "code",
   "execution_count": 9,
   "id": "933cfd59-8335-42a0-8fb0-c67e00107e5a",
   "metadata": {},
   "outputs": [],
   "source": [
    "input_shapefile = '/home/jovyan/Dev/deafrica-sandbox-notebooks/Use_cases/Vegetated_wetlands_mapping/Kerich/Files/Mt_Kenya.shp'\n",
    "data = gpd.read_file(input_shapefile)"
   ]
  },
  {
   "cell_type": "code",
   "execution_count": 10,
   "id": "68af3740-10fb-4aa8-99e6-ed6e8159c39f",
   "metadata": {},
   "outputs": [],
   "source": [
    "merged_polygon = None\n",
    "for polygon in data['geometry']:\n",
    "    exterior = list(polygon.exterior.coords)\n",
    "    if merged_polygon is None:\n",
    "        merged_polygon = Polygon(exterior)\n",
    "    else:\n",
    "        merged_polygon = merged_polygon.union(Polygon(exterior))"
   ]
  },
  {
   "cell_type": "code",
   "execution_count": 11,
   "id": "e4f6013f-45a0-4a36-94fb-c2a0ee88e3bd",
   "metadata": {},
   "outputs": [],
   "source": [
    "merged_gdf = gpd.GeoDataFrame(geometry=[merged_polygon], crs=data.crs)"
   ]
  },
  {
   "cell_type": "code",
   "execution_count": 12,
   "id": "61218b77-eb78-4869-968b-86051feb84a3",
   "metadata": {},
   "outputs": [],
   "source": [
    "output_shapefile ='/home/jovyan/Dev/deafrica-sandbox-notebooks/Use_cases/Vegetated_wetlands_mapping/Kerich/Files'\n",
    "merged_gdf.to_file(output_shapefile)"
   ]
  }
 ],
 "metadata": {
  "kernelspec": {
   "display_name": "Python 3 (ipykernel)",
   "language": "python",
   "name": "python3"
  },
  "language_info": {
   "codemirror_mode": {
    "name": "ipython",
    "version": 3
   },
   "file_extension": ".py",
   "mimetype": "text/x-python",
   "name": "python",
   "nbconvert_exporter": "python",
   "pygments_lexer": "ipython3",
   "version": "3.10.12"
  }
 },
 "nbformat": 4,
 "nbformat_minor": 5
}
