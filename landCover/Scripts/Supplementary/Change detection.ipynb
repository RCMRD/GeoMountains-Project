{
 "cells": [
  {
   "cell_type": "code",
   "execution_count": 1,
   "id": "ed8cdcc1-2861-40dd-8361-96dcf34a0a26",
   "metadata": {},
   "outputs": [],
   "source": [
    "import numpy as np\n",
    "from osgeo import gdal\n",
    "import pandas as pd\n",
    "import matplotlib.pyplot as plt\n",
    "\n",
    "\n",
    "\n",
    "# Load the two raster images\n",
    "image1_path = '/home/jovyan/Dev/deafrica-sandbox-notebooks/Use_cases/Vegetated_wetlands_mapping/results/prediction_1995.tif'\n",
    "image2_path = '/home/jovyan/Dev/deafrica-sandbox-notebooks/Use_cases/Vegetated_wetlands_mapping/results/prediction_2022.tif'\n",
    "\n",
    "# Open the raster images\n",
    "image1 = gdal.Open(image1_path)\n",
    "image2 = gdal.Open(image2_path)\n",
    "\n",
    "# Get the image size\n",
    "image1_cols = image1.RasterXSize\n",
    "image1_rows = image1.RasterYSize\n",
    "image2_cols = image2.RasterXSize\n",
    "image2_rows = image2.RasterYSize"
   ]
  },
  {
   "cell_type": "code",
   "execution_count": 2,
   "id": "41ad1dfc-5b42-45ab-bd69-cb52d6a7d129",
   "metadata": {},
   "outputs": [],
   "source": [
    "# Check if the images have the same size\n",
    "if image1_cols != image2_cols or image1_rows != image2_rows:\n",
    "    raise ValueError(\"Image sizes do not match.\")"
   ]
  },
  {
   "cell_type": "code",
   "execution_count": 3,
   "id": "4be58fef-2d51-4898-a8c9-a48fc851762e",
   "metadata": {},
   "outputs": [],
   "source": [
    "# Get the geotransform to obtain pixel size and area\n",
    "geotransform = image1.GetGeoTransform()\n",
    "pixel_width = geotransform[1]\n",
    "pixel_height = geotransform[5]\n",
    "pixel_area_ha = abs(pixel_width * pixel_height / 10000)  # Convert to hectares"
   ]
  },
  {
   "cell_type": "code",
   "execution_count": 4,
   "id": "839fdaa1-00a5-4b20-a7b1-4f1eed5c37d9",
   "metadata": {},
   "outputs": [],
   "source": [
    "# Read the image data into numpy arrays\n",
    "image1_data = image1.ReadAsArray()\n",
    "image2_data = image2.ReadAsArray()"
   ]
  },
  {
   "cell_type": "code",
   "execution_count": null,
   "id": "104f4bb9-b27f-4a9e-9ca7-880f6849bff0",
   "metadata": {},
   "outputs": [],
   "source": [
    "# Create a dictionary to store change information\n",
    "class_names = {\n",
    "    1: 'Cropland',\n",
    "    2: 'Dense Forest',\n",
    "    3: 'Open Forest',\n",
    "    4: 'Open Grassland',\n",
    "    5: 'Open Water',\n",
    "    6: 'Otherland',\n",
    "    7: 'Settlements',\n",
    "    8: 'Vegetated Wetland',\n",
    "    9: 'Wooded Grassland'\n",
    "}\n",
    "\n",
    "change_info = {}\n",
    "\n",
    "# Iterate through each pixel and detect changes\n",
    "for row in range(image1_rows):\n",
    "    for col in range(image1_cols):\n",
    "        prev_class = image1_data[row, col]\n",
    "        new_class = image2_data[row, col]\n",
    "        if prev_class != new_class and new_class in class_names:\n",
    "            prev_class_name = class_names.get(prev_class, f\"Class {prev_class}\")\n",
    "            new_class_name = class_names.get(new_class, f\"Class {new_class}\")\n",
    "            change_key = f\"{prev_class_name} to {new_class_name}\"\n",
    "            if change_key not in change_info:\n",
    "                change_info[change_key] = 1\n",
    "            else:\n",
    "                change_info[change_key] += 1\n",
    "\n",
    "# Convert the change information from pixels to hectares\n",
    "change_info_ha = {change: count * pixel_area_ha for change, count in change_info.items()}\n",
    "\n",
    "# Prepare data for the chart\n",
    "changes = list(change_info_ha.keys())\n",
    "areas = list(change_info_ha.values())\n",
    "\n",
    "# Create the bar chart\n",
    "plt.bar(changes, areas)\n",
    "plt.xlabel('Change')\n",
    "plt.ylabel('Area (hectares)')\n",
    "plt.title('Change Information in Hectares')\n",
    "plt.xticks(rotation=90)\n",
    "\n",
    "# Display the chart\n",
    "#plt.show()"
   ]
  },
  {
   "cell_type": "code",
   "execution_count": null,
   "id": "b66fca78-2f25-442a-a78a-144bfea28b35",
   "metadata": {},
   "outputs": [],
   "source": [
    "# Convert the change information from pixels to hectares\n",
    "change_info_ha = {change: count * pixel_area_ha for change, count in change_info.items()}\n",
    "\n",
    "# Print the change information in hectares\n",
    "for change, area in change_info_ha.items():\n",
    "    print(f\"{area:.2f}ha {change}\")"
   ]
  },
  {
   "cell_type": "code",
   "execution_count": null,
   "id": "0cb797f3-e160-481c-a47a-1ea58abc8f29",
   "metadata": {},
   "outputs": [],
   "source": [
    "data = pd.DataFrame({\n",
    "    'Change': [f\"{change}\" for change in change_info_ha.keys()],\n",
    "    'Area (hectares)': [area for area in change_info_ha.values()]\n",
    "})\n",
    "\n",
    "# Save data to Excel file\n",
    "excel_file_path = 'change_info_ha.xlsx'  # Replace with your desired file path\n",
    "data.to_excel(excel_file_path, index=False)\n"
   ]
  },
  {
   "cell_type": "code",
   "execution_count": null,
   "id": "e87511a0-24a0-42bc-a2aa-ef760b5780ea",
   "metadata": {},
   "outputs": [],
   "source": [
    "import matplotlib.patches as mpatches"
   ]
  },
  {
   "cell_type": "code",
   "execution_count": null,
   "id": "835ceb36-c3c6-437b-bb5c-59146a75fa4d",
   "metadata": {},
   "outputs": [],
   "source": [
    "# Create a dictionary to store change information\n",
    "class_names = {\n",
    "    1: 'Cropland',\n",
    "    2: 'Dense Forest',\n",
    "    3: 'Open Forest',\n",
    "    4: 'Open Grassland',\n",
    "    5: 'Open Water',\n",
    "    6: 'Otherland',\n",
    "    7: 'Settlements',\n",
    "    8: 'Vegetated Wetland',\n",
    "    9: 'Wooded Grassland'\n",
    "}\n"
   ]
  },
  {
   "cell_type": "code",
   "execution_count": null,
   "id": "2713728d-2dfb-440b-bbba-b12157309c89",
   "metadata": {},
   "outputs": [],
   "source": [
    "\n",
    "# Create a binary mask to identify changes in classes 3, 4, and 8\n",
    "change_mask_3 = np.where((image1_data != image2_data) & (image1_data == 8)  & (image2_data == 7), 1, 0)\n",
    "change_mask_4 = np.where((image1_data != image2_data) & (image1_data == 8)& (image2_data == 6), 2, 0)\n",
    "change_mask_8 = np.where((image1_data != image2_data) & (image1_data == 8)& (image2_data == 1), 3, 0)\n",
    "\n",
    "# Set the colormap to white, red, green, and blue\n",
    "cmap = plt.cm.colors.ListedColormap(['white','#000000'])\n",
    "\n",
    "# Define the land cover classes\n",
    "class_names = {\n",
    "     #2: 'Forest Changed areas',\n",
    "     #8: 'Vegetated Wetland'\n",
    "     1: 'Landcover Changes to Settlements',\n",
    "}\n",
    "\n",
    "\n",
    "# Combine the masks to get the final change mask\n",
    "change_mask = change_mask_3 + change_mask_4 + change_mask_8\n",
    "# Plot the change map\n",
    "plt.figure(figsize=(10, 10))\n",
    "plt.imshow(change_mask, cmap=cmap)\n",
    "plt.title('Landcover Changes to Settlements 2000-2022')\n",
    "plt.xticks([])\n",
    "plt.yticks([])\n",
    "\n",
    "# Create legend handles and labels\n",
    "legend_handles = []\n",
    "legend_labels = []\n",
    "for class_id, class_name in class_names.items():\n",
    "    legend_handles.append(mpatches.Patch(color=cmap(class_id), label=class_name))\n",
    "    legend_labels.append(class_name)\n",
    "\n",
    "# Add legend\n",
    "plt.legend(handles=legend_handles, labels=legend_labels, loc='lower right')\n",
    "\n",
    "plt.savefig('Landcover Changes to Settlements 2000-2022.png',dpi=300, bbox_inches='tight')\n",
    "plt.show()"
   ]
  },
  {
   "cell_type": "code",
   "execution_count": null,
   "id": "5557e2ec-f5a8-48e2-898d-7a575485d8e2",
   "metadata": {},
   "outputs": [],
   "source": [
    "import rasterio"
   ]
  },
  {
   "cell_type": "code",
   "execution_count": null,
   "id": "de721cf5-9640-4758-a6bc-e8cebe439007",
   "metadata": {},
   "outputs": [],
   "source": [
    "# Open the georeferenced image file\n",
    "with rasterio.open(image1_path) as src:\n",
    "    # Read the geotransform and CRS\n",
    "    geotransform = src.transform\n",
    "    crs = src.crs"
   ]
  },
  {
   "cell_type": "code",
   "execution_count": null,
   "id": "ac8c209e-8636-4244-afdf-a0cbda5adcd2",
   "metadata": {},
   "outputs": [],
   "source": [
    "with rasterio.open(\n",
    "    'Wetlands Depletion.tif',\n",
    "    'w',\n",
    "    driver='GTiff',\n",
    "    width=change_mask.shape[1],\n",
    "    height=change_mask.shape[0],\n",
    "    count=1,\n",
    "    dtype=np.uint8,\n",
    "    transform=geotransform,\n",
    "    crs=crs\n",
    ") as dst:\n",
    "    dst.write(change_mask, 1)"
   ]
  },
  {
   "cell_type": "code",
   "execution_count": null,
   "id": "5269946b-2a67-4bce-906c-8ee510caf719",
   "metadata": {},
   "outputs": [],
   "source": []
  }
 ],
 "metadata": {
  "kernelspec": {
   "display_name": "Python 3 (ipykernel)",
   "language": "python",
   "name": "python3"
  },
  "language_info": {
   "codemirror_mode": {
    "name": "ipython",
    "version": 3
   },
   "file_extension": ".py",
   "mimetype": "text/x-python",
   "name": "python",
   "nbconvert_exporter": "python",
   "pygments_lexer": "ipython3",
   "version": "3.10.12"
  }
 },
 "nbformat": 4,
 "nbformat_minor": 5
}
